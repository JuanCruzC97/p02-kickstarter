{
 "cells": [
  {
   "cell_type": "markdown",
   "metadata": {},
   "source": [
    "# Preparación de datos\n",
    "\n",
    "En este Notebook se hace realiza una primera revisión de los datos, chequeo de valores faltantes, duplicados y dimensión. Luego se divide el set de datos en **Train** y **Test**."
   ]
  },
  {
   "cell_type": "markdown",
   "metadata": {},
   "source": [
    "## Paquetes y Funciones"
   ]
  },
  {
   "cell_type": "code",
   "execution_count": 57,
   "metadata": {},
   "outputs": [],
   "source": [
    "import pandas as pd\n",
    "from sklearn.model_selection import train_test_split"
   ]
  },
  {
   "cell_type": "code",
   "execution_count": 94,
   "metadata": {},
   "outputs": [],
   "source": [
    "def data_simple_test(data_dict):\n",
    "    \"\"\"Permite imprimir una evaluación rápida de uno o más datasets que modifiquemos.\n",
    "       Muestra número de filas y de columnas, valores faltantes y duplicados.\n",
    "\n",
    "    Args:\n",
    "        data_dict (dict): Diccionario con dataframes a evaluar. Key será el nombre del dataframe.\n",
    "                          Ejemplo: {'Train':train}\n",
    "    \"\"\"\n",
    "    print(\"Data Simple Test\")\n",
    "    for data in data_dict:\n",
    "        print(f'{data} | rows : {data_dict[data].shape[0]} | cols : {data_dict[data].shape[1]} \\n        | na : {data_dict[data].isna().sum().sum()} | duplicates : {data_dict[data].duplicated().sum()}')\n",
    "    \n",
    "    return None    "
   ]
  },
  {
   "cell_type": "markdown",
   "metadata": {},
   "source": [
    "## Dataset"
   ]
  },
  {
   "cell_type": "code",
   "execution_count": 58,
   "metadata": {},
   "outputs": [
    {
     "data": {
      "text/html": [
       "<div>\n",
       "<style scoped>\n",
       "    .dataframe tbody tr th:only-of-type {\n",
       "        vertical-align: middle;\n",
       "    }\n",
       "\n",
       "    .dataframe tbody tr th {\n",
       "        vertical-align: top;\n",
       "    }\n",
       "\n",
       "    .dataframe thead th {\n",
       "        text-align: right;\n",
       "    }\n",
       "</style>\n",
       "<table border=\"1\" class=\"dataframe\">\n",
       "  <thead>\n",
       "    <tr style=\"text-align: right;\">\n",
       "      <th></th>\n",
       "      <th>fecha_inicial</th>\n",
       "      <th>fecha_final</th>\n",
       "      <th>año_inicial</th>\n",
       "      <th>mes_inicial</th>\n",
       "      <th>dia_inicial</th>\n",
       "      <th>año_final</th>\n",
       "      <th>mes_final</th>\n",
       "      <th>dia_final</th>\n",
       "      <th>pais</th>\n",
       "      <th>ciudad</th>\n",
       "      <th>...</th>\n",
       "      <th>title</th>\n",
       "      <th>cotizacion</th>\n",
       "      <th>moneda_igual_pais</th>\n",
       "      <th>dia_semana_inicial</th>\n",
       "      <th>dia_semana_final</th>\n",
       "      <th>weekend_inicial</th>\n",
       "      <th>weekend_final</th>\n",
       "      <th>primera_quincena_inicial</th>\n",
       "      <th>primera_quincena_final</th>\n",
       "      <th>id</th>\n",
       "    </tr>\n",
       "  </thead>\n",
       "  <tbody>\n",
       "    <tr>\n",
       "      <th>1</th>\n",
       "      <td>2019-04-23</td>\n",
       "      <td>2019-05-23</td>\n",
       "      <td>2019</td>\n",
       "      <td>4</td>\n",
       "      <td>23</td>\n",
       "      <td>2019</td>\n",
       "      <td>5</td>\n",
       "      <td>23</td>\n",
       "      <td>Australia</td>\n",
       "      <td>Brisbane</td>\n",
       "      <td>...</td>\n",
       "      <td>Lands of CROM Trading Card Game</td>\n",
       "      <td>1.000000</td>\n",
       "      <td>0</td>\n",
       "      <td>martes</td>\n",
       "      <td>jueves</td>\n",
       "      <td>0</td>\n",
       "      <td>0</td>\n",
       "      <td>0</td>\n",
       "      <td>0</td>\n",
       "      <td>1</td>\n",
       "    </tr>\n",
       "    <tr>\n",
       "      <th>2</th>\n",
       "      <td>2019-03-26</td>\n",
       "      <td>2019-05-24</td>\n",
       "      <td>2019</td>\n",
       "      <td>3</td>\n",
       "      <td>26</td>\n",
       "      <td>2019</td>\n",
       "      <td>5</td>\n",
       "      <td>24</td>\n",
       "      <td>Sweden</td>\n",
       "      <td>Gävle</td>\n",
       "      <td>...</td>\n",
       "      <td>Pastillfabriken - nu bygger vi Gävles nygamla ...</td>\n",
       "      <td>0.108288</td>\n",
       "      <td>1</td>\n",
       "      <td>martes</td>\n",
       "      <td>viernes</td>\n",
       "      <td>0</td>\n",
       "      <td>0</td>\n",
       "      <td>0</td>\n",
       "      <td>0</td>\n",
       "      <td>2</td>\n",
       "    </tr>\n",
       "    <tr>\n",
       "      <th>3</th>\n",
       "      <td>2019-04-14</td>\n",
       "      <td>2019-05-05</td>\n",
       "      <td>2019</td>\n",
       "      <td>4</td>\n",
       "      <td>14</td>\n",
       "      <td>2019</td>\n",
       "      <td>5</td>\n",
       "      <td>5</td>\n",
       "      <td>Germany</td>\n",
       "      <td>Munich</td>\n",
       "      <td>...</td>\n",
       "      <td>Das Brett - cut it, keep it, store it, love it.</td>\n",
       "      <td>1.130450</td>\n",
       "      <td>1</td>\n",
       "      <td>domingo</td>\n",
       "      <td>domingo</td>\n",
       "      <td>1</td>\n",
       "      <td>1</td>\n",
       "      <td>1</td>\n",
       "      <td>1</td>\n",
       "      <td>3</td>\n",
       "    </tr>\n",
       "    <tr>\n",
       "      <th>4</th>\n",
       "      <td>2019-04-03</td>\n",
       "      <td>2019-06-02</td>\n",
       "      <td>2019</td>\n",
       "      <td>4</td>\n",
       "      <td>3</td>\n",
       "      <td>2019</td>\n",
       "      <td>6</td>\n",
       "      <td>2</td>\n",
       "      <td>Canada</td>\n",
       "      <td>Montreal</td>\n",
       "      <td>...</td>\n",
       "      <td>Plateforme collaborative.</td>\n",
       "      <td>1.000000</td>\n",
       "      <td>0</td>\n",
       "      <td>miércoles</td>\n",
       "      <td>domingo</td>\n",
       "      <td>0</td>\n",
       "      <td>1</td>\n",
       "      <td>1</td>\n",
       "      <td>1</td>\n",
       "      <td>4</td>\n",
       "    </tr>\n",
       "    <tr>\n",
       "      <th>5</th>\n",
       "      <td>2019-03-12</td>\n",
       "      <td>2019-05-11</td>\n",
       "      <td>2019</td>\n",
       "      <td>3</td>\n",
       "      <td>12</td>\n",
       "      <td>2019</td>\n",
       "      <td>5</td>\n",
       "      <td>11</td>\n",
       "      <td>United Kingdom</td>\n",
       "      <td>London</td>\n",
       "      <td>...</td>\n",
       "      <td>Live the story you want to tell</td>\n",
       "      <td>1.307600</td>\n",
       "      <td>1</td>\n",
       "      <td>martes</td>\n",
       "      <td>sábado</td>\n",
       "      <td>0</td>\n",
       "      <td>1</td>\n",
       "      <td>1</td>\n",
       "      <td>1</td>\n",
       "      <td>5</td>\n",
       "    </tr>\n",
       "  </tbody>\n",
       "</table>\n",
       "<p>5 rows × 48 columns</p>\n",
       "</div>"
      ],
      "text/plain": [
       "  fecha_inicial fecha_final  año_inicial  mes_inicial  dia_inicial  año_final  \\\n",
       "1    2019-04-23  2019-05-23         2019            4           23       2019   \n",
       "2    2019-03-26  2019-05-24         2019            3           26       2019   \n",
       "3    2019-04-14  2019-05-05         2019            4           14       2019   \n",
       "4    2019-04-03  2019-06-02         2019            4            3       2019   \n",
       "5    2019-03-12  2019-05-11         2019            3           12       2019   \n",
       "\n",
       "   mes_final  dia_final            pais    ciudad  ...  \\\n",
       "1          5         23       Australia  Brisbane  ...   \n",
       "2          5         24          Sweden     Gävle  ...   \n",
       "3          5          5         Germany    Munich  ...   \n",
       "4          6          2          Canada  Montreal  ...   \n",
       "5          5         11  United Kingdom    London  ...   \n",
       "\n",
       "                                               title cotizacion  \\\n",
       "1                    Lands of CROM Trading Card Game   1.000000   \n",
       "2  Pastillfabriken - nu bygger vi Gävles nygamla ...   0.108288   \n",
       "3    Das Brett - cut it, keep it, store it, love it.   1.130450   \n",
       "4                          Plateforme collaborative.   1.000000   \n",
       "5                    Live the story you want to tell   1.307600   \n",
       "\n",
       "   moneda_igual_pais  dia_semana_inicial  dia_semana_final  weekend_inicial  \\\n",
       "1                  0              martes            jueves                0   \n",
       "2                  1              martes           viernes                0   \n",
       "3                  1             domingo           domingo                1   \n",
       "4                  0           miércoles           domingo                0   \n",
       "5                  1              martes            sábado                0   \n",
       "\n",
       "   weekend_final  primera_quincena_inicial  primera_quincena_final  id  \n",
       "1              0                         0                       0   1  \n",
       "2              0                         0                       0   2  \n",
       "3              1                         1                       1   3  \n",
       "4              1                         1                       1   4  \n",
       "5              1                         1                       1   5  \n",
       "\n",
       "[5 rows x 48 columns]"
      ]
     },
     "execution_count": 58,
     "metadata": {},
     "output_type": "execute_result"
    }
   ],
   "source": [
    "data = pd.read_csv(\"dataset_kickstarter.csv\", index_col=0)\n",
    "data.head()"
   ]
  },
  {
   "cell_type": "code",
   "execution_count": 59,
   "metadata": {},
   "outputs": [
    {
     "data": {
      "text/plain": [
       "(7398, 48)"
      ]
     },
     "execution_count": 59,
     "metadata": {},
     "output_type": "execute_result"
    }
   ],
   "source": [
    "data.shape"
   ]
  },
  {
   "cell_type": "code",
   "execution_count": 60,
   "metadata": {},
   "outputs": [
    {
     "data": {
      "text/plain": [
       "Index(['fecha_inicial', 'fecha_final', 'año_inicial', 'mes_inicial',\n",
       "       'dia_inicial', 'año_final', 'mes_final', 'dia_final', 'pais', 'ciudad',\n",
       "       'categoria_principal', 'categoria', 'proyecto_featured',\n",
       "       'descripcion_largo', 'descripcion_full_largo', 'titulo_largo',\n",
       "       'cant_creaciones_dueño', 'cant_faqs', 'cant_imagenes', 'cant_videos',\n",
       "       'cant_tiers', 'tier_promedio', 'tier_max', 'tier_min', 'duracion',\n",
       "       'moneda', 'objetivo_monto', 'objetivo_ratio', 'monto_obtenido',\n",
       "       'monto_obtenido_porcentaje', 'estado', 'exito', 'cant_actualizaciones',\n",
       "       'cant_backers', 'cant_backers_tiers', 'cant_comentarios',\n",
       "       'backers_promedio_por_tier', 'aporte_promedio_por_backer', 'title',\n",
       "       'cotizacion', 'moneda_igual_pais', 'dia_semana_inicial',\n",
       "       'dia_semana_final', 'weekend_inicial', 'weekend_final',\n",
       "       'primera_quincena_inicial', 'primera_quincena_final', 'id'],\n",
       "      dtype='object')"
      ]
     },
     "execution_count": 60,
     "metadata": {},
     "output_type": "execute_result"
    }
   ],
   "source": [
    "data.columns"
   ]
  },
  {
   "cell_type": "markdown",
   "metadata": {},
   "source": [
    "No tenemos valores faltantes."
   ]
  },
  {
   "cell_type": "code",
   "execution_count": 61,
   "metadata": {},
   "outputs": [
    {
     "data": {
      "text/plain": [
       "0"
      ]
     },
     "execution_count": 61,
     "metadata": {},
     "output_type": "execute_result"
    }
   ],
   "source": [
    "data.isna().sum().sum()"
   ]
  },
  {
   "cell_type": "markdown",
   "metadata": {},
   "source": [
    "Aunque elimine la variable `id` no hay proyectos duplicados en el dataset."
   ]
  },
  {
   "cell_type": "code",
   "execution_count": 62,
   "metadata": {},
   "outputs": [
    {
     "data": {
      "text/plain": [
       "0"
      ]
     },
     "execution_count": 62,
     "metadata": {},
     "output_type": "execute_result"
    }
   ],
   "source": [
    "data.drop('id', axis = 1).duplicated().sum()"
   ]
  },
  {
   "cell_type": "markdown",
   "metadata": {},
   "source": [
    "## Train and Test split\n",
    "\n",
    "Dividimos el dataset en set de Train (75%) y Test (15%). Primero clasificamos las variables en explicativas, futuras y target."
   ]
  },
  {
   "cell_type": "code",
   "execution_count": 63,
   "metadata": {},
   "outputs": [],
   "source": [
    "explicativas = ['fecha_inicial', 'fecha_final', 'año_inicial', 'mes_inicial','dia_inicial', \n",
    "                'año_final', 'mes_final', 'dia_final', 'pais', 'ciudad', 'descripcion_largo', \n",
    "                'descripcion_full_largo', 'titulo_largo','cant_creaciones_dueño', 'cant_faqs', \n",
    "                'cant_imagenes', 'cant_videos','cant_tiers', 'tier_promedio', 'tier_max', \n",
    "                'tier_min', 'duracion','moneda', 'objetivo_monto', 'objetivo_ratio','title',\n",
    "                'cotizacion', 'moneda_igual_pais', 'dia_semana_inicial',\n",
    "                'dia_semana_final', 'weekend_inicial', 'weekend_final',\n",
    "                'primera_quincena_inicial', 'primera_quincena_final', 'id']\n",
    " \n",
    "target = ['monto_obtenido','monto_obtenido_porcentaje', 'estado', 'exito']\n",
    " \n",
    "futuras = ['cant_actualizaciones', 'cant_backers', 'cant_backers_tiers', 'cant_comentarios',\n",
    "       'backers_promedio_por_tier', 'aporte_promedio_por_backer']"
   ]
  },
  {
   "cell_type": "code",
   "execution_count": 64,
   "metadata": {},
   "outputs": [],
   "source": [
    "X = data.drop(target+futuras, axis = 1)\n",
    "y = data[target+['id']]"
   ]
  },
  {
   "cell_type": "code",
   "execution_count": 65,
   "metadata": {},
   "outputs": [],
   "source": [
    "X_train, X_test, y_train, y_test = train_test_split(X, y, test_size = 0.15, random_state = 60, shuffle = True, stratify = y[\"exito\"])"
   ]
  },
  {
   "cell_type": "markdown",
   "metadata": {},
   "source": [
    "Revisamos los resultados del split de los datos."
   ]
  },
  {
   "cell_type": "code",
   "execution_count": 96,
   "metadata": {},
   "outputs": [
    {
     "name": "stdout",
     "output_type": "stream",
     "text": [
      "Data Simple Test\n",
      "Train X | rows : 6288 | cols : 38 \n",
      "        | na : 0 | duplicates : 0\n",
      "Test X  | rows : 1110 | cols : 38 \n",
      "        | na : 0 | duplicates : 0\n",
      "Train y | rows : 6288 | cols : 5 \n",
      "        | na : 0 | duplicates : 0\n",
      "Test y  | rows : 1110 | cols : 5 \n",
      "        | na : 0 | duplicates : 0\n"
     ]
    }
   ],
   "source": [
    "split_data_dict = {'Train X':X_train, \n",
    "                   'Test X ':X_test, \n",
    "                   'Train y':y_train, \n",
    "                   'Test y ':y_test}\n",
    "\n",
    "data_simple_test(split_data_dict)"
   ]
  },
  {
   "cell_type": "markdown",
   "metadata": {},
   "source": [
    "## Exportamos Splits"
   ]
  },
  {
   "cell_type": "code",
   "execution_count": 67,
   "metadata": {},
   "outputs": [],
   "source": [
    "train = X_train.merge(y_train, how='inner', on=['id'])\n",
    "test = X_test.merge(y_test, how='inner', on=['id'])"
   ]
  },
  {
   "cell_type": "code",
   "execution_count": 100,
   "metadata": {},
   "outputs": [
    {
     "name": "stdout",
     "output_type": "stream",
     "text": [
      "Data Simple Test\n",
      "Train   | rows : 6288 | cols : 42 \n",
      "        | na : 0 | duplicates : 0\n",
      "Test    | rows : 1110 | cols : 42 \n",
      "        | na : 0 | duplicates : 0\n"
     ]
    }
   ],
   "source": [
    "data_dict = {'Train  ':train, \n",
    "             'Test   ':test}\n",
    "\n",
    "data_simple_test(data_dict)"
   ]
  },
  {
   "cell_type": "code",
   "execution_count": 102,
   "metadata": {},
   "outputs": [],
   "source": [
    "train.to_csv(\"Train.csv\")\n",
    "test.to_csv(\"Test.csv\")"
   ]
  }
 ],
 "metadata": {
  "interpreter": {
   "hash": "70e1497991c8da6a3b5dfb08a5f1c781fe3cedc28f4548461be1a96558f5870a"
  },
  "kernelspec": {
   "display_name": "Python 3.8.5 ('base')",
   "language": "python",
   "name": "python3"
  },
  "language_info": {
   "codemirror_mode": {
    "name": "ipython",
    "version": 3
   },
   "file_extension": ".py",
   "mimetype": "text/x-python",
   "name": "python",
   "nbconvert_exporter": "python",
   "pygments_lexer": "ipython3",
   "version": "3.8.5"
  },
  "orig_nbformat": 4
 },
 "nbformat": 4,
 "nbformat_minor": 2
}
